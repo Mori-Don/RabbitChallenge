{
  "nbformat": 4,
  "nbformat_minor": 0,
  "metadata": {
    "colab": {
      "name": "RabbitChallenge_PythonKoza_11-20.ipynb",
      "provenance": [],
      "authorship_tag": "ABX9TyPIjFJKFvIGWUIh7xXw1hIG",
      "include_colab_link": true
    },
    "kernelspec": {
      "name": "python3",
      "display_name": "Python 3"
    }
  },
  "cells": [
    {
      "cell_type": "markdown",
      "metadata": {
        "id": "view-in-github",
        "colab_type": "text"
      },
      "source": [
        "<a href=\"https://colab.research.google.com/github/Mori-Don/RabbitChallenge/blob/main/RabbitChallenge_PythonKoza_11_20.ipynb\" target=\"_parent\"><img src=\"https://colab.research.google.com/assets/colab-badge.svg\" alt=\"Open In Colab\"/></a>"
      ]
    },
    {
      "cell_type": "markdown",
      "metadata": {
        "id": "F7xXeeWjk8kq"
      },
      "source": [
        " # PY11"
      ]
    },
    {
      "cell_type": "code",
      "metadata": {
        "id": "-U3aIavhlMo1"
      },
      "source": [
        "#numpy\n",
        "import numpy as np"
      ],
      "execution_count": 1,
      "outputs": []
    },
    {
      "cell_type": "code",
      "metadata": {
        "colab": {
          "base_uri": "https://localhost:8080/"
        },
        "id": "BN36DTmflnLS",
        "outputId": "816aca7d-ae70-40a4-b50f-fc3acd1c5941"
      },
      "source": [
        "np.array([1, 2, 3, 4, 5])"
      ],
      "execution_count": 2,
      "outputs": [
        {
          "output_type": "execute_result",
          "data": {
            "text/plain": [
              "array([1, 2, 3, 4, 5])"
            ]
          },
          "metadata": {
            "tags": []
          },
          "execution_count": 2
        }
      ]
    },
    {
      "cell_type": "code",
      "metadata": {
        "colab": {
          "base_uri": "https://localhost:8080/"
        },
        "id": "n84GgJOXoqUk",
        "outputId": "5800d5e0-d9f1-4d72-cdef-44d845720fac"
      },
      "source": [
        "np.zeros(10, dtype=int)"
      ],
      "execution_count": 3,
      "outputs": [
        {
          "output_type": "execute_result",
          "data": {
            "text/plain": [
              "array([0, 0, 0, 0, 0, 0, 0, 0, 0, 0])"
            ]
          },
          "metadata": {
            "tags": []
          },
          "execution_count": 3
        }
      ]
    },
    {
      "cell_type": "code",
      "metadata": {
        "colab": {
          "base_uri": "https://localhost:8080/"
        },
        "id": "im2UFRn5ot-A",
        "outputId": "1649f8b4-208b-4d33-ed5b-2aa539bd39a2"
      },
      "source": [
        "np.ones((3, 5), dtype=float)"
      ],
      "execution_count": 4,
      "outputs": [
        {
          "output_type": "execute_result",
          "data": {
            "text/plain": [
              "array([[1., 1., 1., 1., 1.],\n",
              "       [1., 1., 1., 1., 1.],\n",
              "       [1., 1., 1., 1., 1.]])"
            ]
          },
          "metadata": {
            "tags": []
          },
          "execution_count": 4
        }
      ]
    },
    {
      "cell_type": "code",
      "metadata": {
        "colab": {
          "base_uri": "https://localhost:8080/"
        },
        "id": "sHc6EbNZo0FW",
        "outputId": "1e89621e-6b7e-4d4c-9b64-89141e03d0a2"
      },
      "source": [
        "np.full((3, 5), 3.14)"
      ],
      "execution_count": 5,
      "outputs": [
        {
          "output_type": "execute_result",
          "data": {
            "text/plain": [
              "array([[3.14, 3.14, 3.14, 3.14, 3.14],\n",
              "       [3.14, 3.14, 3.14, 3.14, 3.14],\n",
              "       [3.14, 3.14, 3.14, 3.14, 3.14]])"
            ]
          },
          "metadata": {
            "tags": []
          },
          "execution_count": 5
        }
      ]
    },
    {
      "cell_type": "code",
      "metadata": {
        "colab": {
          "base_uri": "https://localhost:8080/"
        },
        "id": "seE6A1gAo70q",
        "outputId": "d02547ea-2855-4b86-8d5f-9b18c0f6f880"
      },
      "source": [
        "np.arange(0, 20, 3)"
      ],
      "execution_count": 6,
      "outputs": [
        {
          "output_type": "execute_result",
          "data": {
            "text/plain": [
              "array([ 0,  3,  6,  9, 12, 15, 18])"
            ]
          },
          "metadata": {
            "tags": []
          },
          "execution_count": 6
        }
      ]
    },
    {
      "cell_type": "code",
      "metadata": {
        "colab": {
          "base_uri": "https://localhost:8080/"
        },
        "id": "pSSvlO87o_wj",
        "outputId": "89eae686-7705-43ba-f521-ad9bd47fa500"
      },
      "source": [
        "np.linspace(0, 1, 5)"
      ],
      "execution_count": 7,
      "outputs": [
        {
          "output_type": "execute_result",
          "data": {
            "text/plain": [
              "array([0.  , 0.25, 0.5 , 0.75, 1.  ])"
            ]
          },
          "metadata": {
            "tags": []
          },
          "execution_count": 7
        }
      ]
    },
    {
      "cell_type": "code",
      "metadata": {
        "colab": {
          "base_uri": "https://localhost:8080/"
        },
        "id": "4_pahEYRpFmA",
        "outputId": "b677b712-b996-4bf9-e08a-19512a18b082"
      },
      "source": [
        "np.random.random((3, 4))"
      ],
      "execution_count": 8,
      "outputs": [
        {
          "output_type": "execute_result",
          "data": {
            "text/plain": [
              "array([[0.04091982, 0.41195761, 0.23331617, 0.57931527],\n",
              "       [0.51940047, 0.64672175, 0.99071677, 0.43300801],\n",
              "       [0.04578515, 0.57226155, 0.10113625, 0.71840924]])"
            ]
          },
          "metadata": {
            "tags": []
          },
          "execution_count": 8
        }
      ]
    },
    {
      "cell_type": "code",
      "metadata": {
        "colab": {
          "base_uri": "https://localhost:8080/"
        },
        "id": "yrU-xVQApH5w",
        "outputId": "ce03fcc8-25fd-4f9e-cd2e-d137079dfe0d"
      },
      "source": [
        "np.random.normal(0, 1, (3,3))"
      ],
      "execution_count": 9,
      "outputs": [
        {
          "output_type": "execute_result",
          "data": {
            "text/plain": [
              "array([[-0.18582086,  0.16387113,  0.06560156],\n",
              "       [-0.4543301 ,  1.655537  ,  2.11505459],\n",
              "       [ 0.04851594, -0.53811867,  1.30793018]])"
            ]
          },
          "metadata": {
            "tags": []
          },
          "execution_count": 9
        }
      ]
    },
    {
      "cell_type": "code",
      "metadata": {
        "colab": {
          "base_uri": "https://localhost:8080/"
        },
        "id": "WDddVh3HpLsb",
        "outputId": "232683ae-083b-412f-fab3-13135c7729f6"
      },
      "source": [
        "np.random.randint(0, 255, (100,150))"
      ],
      "execution_count": 10,
      "outputs": [
        {
          "output_type": "execute_result",
          "data": {
            "text/plain": [
              "array([[210, 137, 231, ..., 142,   9,  24],\n",
              "       [ 55,  48, 188, ..., 186, 246,  50],\n",
              "       [239, 171, 146, ..., 147, 101, 210],\n",
              "       ...,\n",
              "       [182, 171, 161, ...,  32, 228,  75],\n",
              "       [191, 146, 118, ...,  40, 201, 167],\n",
              "       [ 80,  96,  11, ...,  18, 182, 183]])"
            ]
          },
          "metadata": {
            "tags": []
          },
          "execution_count": 10
        }
      ]
    },
    {
      "cell_type": "code",
      "metadata": {
        "colab": {
          "base_uri": "https://localhost:8080/"
        },
        "id": "nuD6cGxpqyAK",
        "outputId": "d9036bb2-d99e-495e-fb92-960fa54cfeee"
      },
      "source": [
        "np.eye(5)"
      ],
      "execution_count": 11,
      "outputs": [
        {
          "output_type": "execute_result",
          "data": {
            "text/plain": [
              "array([[1., 0., 0., 0., 0.],\n",
              "       [0., 1., 0., 0., 0.],\n",
              "       [0., 0., 1., 0., 0.],\n",
              "       [0., 0., 0., 1., 0.],\n",
              "       [0., 0., 0., 0., 1.]])"
            ]
          },
          "metadata": {
            "tags": []
          },
          "execution_count": 11
        }
      ]
    },
    {
      "cell_type": "markdown",
      "metadata": {
        "id": "DbTazUBmpV0I"
      },
      "source": [
        "#PY12"
      ]
    },
    {
      "cell_type": "code",
      "metadata": {
        "id": "1c3Ln2ZnpX3a"
      },
      "source": [
        "from sklearn import datasets\n",
        "\n",
        "mnist = datasets.load_digits()"
      ],
      "execution_count": 12,
      "outputs": []
    },
    {
      "cell_type": "code",
      "metadata": {
        "colab": {
          "base_uri": "https://localhost:8080/"
        },
        "id": "SGeuhZQzr7Op",
        "outputId": "79593ca2-d4cb-464e-a8b3-72665864395e"
      },
      "source": [
        "mnist[\"images\"]"
      ],
      "execution_count": 13,
      "outputs": [
        {
          "output_type": "execute_result",
          "data": {
            "text/plain": [
              "array([[[ 0.,  0.,  5., ...,  1.,  0.,  0.],\n",
              "        [ 0.,  0., 13., ..., 15.,  5.,  0.],\n",
              "        [ 0.,  3., 15., ..., 11.,  8.,  0.],\n",
              "        ...,\n",
              "        [ 0.,  4., 11., ..., 12.,  7.,  0.],\n",
              "        [ 0.,  2., 14., ..., 12.,  0.,  0.],\n",
              "        [ 0.,  0.,  6., ...,  0.,  0.,  0.]],\n",
              "\n",
              "       [[ 0.,  0.,  0., ...,  5.,  0.,  0.],\n",
              "        [ 0.,  0.,  0., ...,  9.,  0.,  0.],\n",
              "        [ 0.,  0.,  3., ...,  6.,  0.,  0.],\n",
              "        ...,\n",
              "        [ 0.,  0.,  1., ...,  6.,  0.,  0.],\n",
              "        [ 0.,  0.,  1., ...,  6.,  0.,  0.],\n",
              "        [ 0.,  0.,  0., ..., 10.,  0.,  0.]],\n",
              "\n",
              "       [[ 0.,  0.,  0., ..., 12.,  0.,  0.],\n",
              "        [ 0.,  0.,  3., ..., 14.,  0.,  0.],\n",
              "        [ 0.,  0.,  8., ..., 16.,  0.,  0.],\n",
              "        ...,\n",
              "        [ 0.,  9., 16., ...,  0.,  0.,  0.],\n",
              "        [ 0.,  3., 13., ..., 11.,  5.,  0.],\n",
              "        [ 0.,  0.,  0., ..., 16.,  9.,  0.]],\n",
              "\n",
              "       ...,\n",
              "\n",
              "       [[ 0.,  0.,  1., ...,  1.,  0.,  0.],\n",
              "        [ 0.,  0., 13., ...,  2.,  1.,  0.],\n",
              "        [ 0.,  0., 16., ..., 16.,  5.,  0.],\n",
              "        ...,\n",
              "        [ 0.,  0., 16., ..., 15.,  0.,  0.],\n",
              "        [ 0.,  0., 15., ..., 16.,  0.,  0.],\n",
              "        [ 0.,  0.,  2., ...,  6.,  0.,  0.]],\n",
              "\n",
              "       [[ 0.,  0.,  2., ...,  0.,  0.,  0.],\n",
              "        [ 0.,  0., 14., ..., 15.,  1.,  0.],\n",
              "        [ 0.,  4., 16., ..., 16.,  7.,  0.],\n",
              "        ...,\n",
              "        [ 0.,  0.,  0., ..., 16.,  2.,  0.],\n",
              "        [ 0.,  0.,  4., ..., 16.,  2.,  0.],\n",
              "        [ 0.,  0.,  5., ..., 12.,  0.,  0.]],\n",
              "\n",
              "       [[ 0.,  0., 10., ...,  1.,  0.,  0.],\n",
              "        [ 0.,  2., 16., ...,  1.,  0.,  0.],\n",
              "        [ 0.,  0., 15., ..., 15.,  0.,  0.],\n",
              "        ...,\n",
              "        [ 0.,  4., 16., ..., 16.,  6.,  0.],\n",
              "        [ 0.,  8., 16., ..., 16.,  8.,  0.],\n",
              "        [ 0.,  1.,  8., ..., 12.,  1.,  0.]]])"
            ]
          },
          "metadata": {
            "tags": []
          },
          "execution_count": 13
        }
      ]
    },
    {
      "cell_type": "code",
      "metadata": {
        "colab": {
          "base_uri": "https://localhost:8080/"
        },
        "id": "XBec6rumr-27",
        "outputId": "148d6120-8540-42c8-c5a9-1dcc55947580"
      },
      "source": [
        "mnist[\"target\"]"
      ],
      "execution_count": 14,
      "outputs": [
        {
          "output_type": "execute_result",
          "data": {
            "text/plain": [
              "array([0, 1, 2, ..., 8, 9, 8])"
            ]
          },
          "metadata": {
            "tags": []
          },
          "execution_count": 14
        }
      ]
    },
    {
      "cell_type": "code",
      "metadata": {
        "colab": {
          "base_uri": "https://localhost:8080/"
        },
        "id": "bCoc6OTzsHR4",
        "outputId": "f18705ab-93b2-4a2c-94de-93a1c6bcfa60"
      },
      "source": [
        "mnist[\"images\"].ndim"
      ],
      "execution_count": 15,
      "outputs": [
        {
          "output_type": "execute_result",
          "data": {
            "text/plain": [
              "3"
            ]
          },
          "metadata": {
            "tags": []
          },
          "execution_count": 15
        }
      ]
    },
    {
      "cell_type": "code",
      "metadata": {
        "colab": {
          "base_uri": "https://localhost:8080/"
        },
        "id": "9dTOzJ5dsLTC",
        "outputId": "a39afb36-8e2b-439e-a085-27b0e94f6746"
      },
      "source": [
        "mnist[\"target\"].ndim"
      ],
      "execution_count": 16,
      "outputs": [
        {
          "output_type": "execute_result",
          "data": {
            "text/plain": [
              "1"
            ]
          },
          "metadata": {
            "tags": []
          },
          "execution_count": 16
        }
      ]
    },
    {
      "cell_type": "code",
      "metadata": {
        "colab": {
          "base_uri": "https://localhost:8080/"
        },
        "id": "TdeiN36NsOpH",
        "outputId": "84b5dcdc-9d8f-41a9-c5f5-3354ac45b4d8"
      },
      "source": [
        "mnist[\"images\"].shape"
      ],
      "execution_count": 17,
      "outputs": [
        {
          "output_type": "execute_result",
          "data": {
            "text/plain": [
              "(1797, 8, 8)"
            ]
          },
          "metadata": {
            "tags": []
          },
          "execution_count": 17
        }
      ]
    },
    {
      "cell_type": "code",
      "metadata": {
        "colab": {
          "base_uri": "https://localhost:8080/"
        },
        "id": "7FIGNj29tddy",
        "outputId": "f68e6246-8073-4083-ec68-6c403a02dd5a"
      },
      "source": [
        "mnist[\"target\"].shape"
      ],
      "execution_count": 18,
      "outputs": [
        {
          "output_type": "execute_result",
          "data": {
            "text/plain": [
              "(1797,)"
            ]
          },
          "metadata": {
            "tags": []
          },
          "execution_count": 18
        }
      ]
    },
    {
      "cell_type": "code",
      "metadata": {
        "id": "HyvuLNiXtjwj"
      },
      "source": [
        "x1 = np.zeros(6, dtype=np.float16)\n",
        "x2 = np.zeros((3, 4), dtype=np.uint8)\n",
        "x3 = np.zeros((3, 4, 5), dtype=np.float32)"
      ],
      "execution_count": 19,
      "outputs": []
    },
    {
      "cell_type": "code",
      "metadata": {
        "colab": {
          "base_uri": "https://localhost:8080/"
        },
        "id": "YrD2Rex8t18M",
        "outputId": "fef66057-51bb-491e-9fa0-06daa14905ff"
      },
      "source": [
        "x1"
      ],
      "execution_count": 20,
      "outputs": [
        {
          "output_type": "execute_result",
          "data": {
            "text/plain": [
              "array([0., 0., 0., 0., 0., 0.], dtype=float16)"
            ]
          },
          "metadata": {
            "tags": []
          },
          "execution_count": 20
        }
      ]
    },
    {
      "cell_type": "code",
      "metadata": {
        "colab": {
          "base_uri": "https://localhost:8080/"
        },
        "id": "amd5djgat61m",
        "outputId": "607260e0-25a2-442c-8c98-9a19dea28fb0"
      },
      "source": [
        "x2"
      ],
      "execution_count": 21,
      "outputs": [
        {
          "output_type": "execute_result",
          "data": {
            "text/plain": [
              "array([[0, 0, 0, 0],\n",
              "       [0, 0, 0, 0],\n",
              "       [0, 0, 0, 0]], dtype=uint8)"
            ]
          },
          "metadata": {
            "tags": []
          },
          "execution_count": 21
        }
      ]
    },
    {
      "cell_type": "code",
      "metadata": {
        "colab": {
          "base_uri": "https://localhost:8080/"
        },
        "id": "pzVea4YGt9I1",
        "outputId": "06e88e43-cdae-4d5c-8d1e-fb16ce571512"
      },
      "source": [
        "x3"
      ],
      "execution_count": 22,
      "outputs": [
        {
          "output_type": "execute_result",
          "data": {
            "text/plain": [
              "array([[[0., 0., 0., 0., 0.],\n",
              "        [0., 0., 0., 0., 0.],\n",
              "        [0., 0., 0., 0., 0.],\n",
              "        [0., 0., 0., 0., 0.]],\n",
              "\n",
              "       [[0., 0., 0., 0., 0.],\n",
              "        [0., 0., 0., 0., 0.],\n",
              "        [0., 0., 0., 0., 0.],\n",
              "        [0., 0., 0., 0., 0.]],\n",
              "\n",
              "       [[0., 0., 0., 0., 0.],\n",
              "        [0., 0., 0., 0., 0.],\n",
              "        [0., 0., 0., 0., 0.],\n",
              "        [0., 0., 0., 0., 0.]]], dtype=float32)"
            ]
          },
          "metadata": {
            "tags": []
          },
          "execution_count": 22
        }
      ]
    },
    {
      "cell_type": "code",
      "metadata": {
        "colab": {
          "base_uri": "https://localhost:8080/"
        },
        "id": "_CjZzI4Xt98h",
        "outputId": "fffa5d28-074f-423f-8d59-f1e9c0ae7a91"
      },
      "source": [
        "x1.ndim"
      ],
      "execution_count": 23,
      "outputs": [
        {
          "output_type": "execute_result",
          "data": {
            "text/plain": [
              "1"
            ]
          },
          "metadata": {
            "tags": []
          },
          "execution_count": 23
        }
      ]
    },
    {
      "cell_type": "code",
      "metadata": {
        "colab": {
          "base_uri": "https://localhost:8080/"
        },
        "id": "XxPwhLUQuP2s",
        "outputId": "5ef74834-8c3a-45a9-95c9-d89014c9cce2"
      },
      "source": [
        "x2.ndim"
      ],
      "execution_count": 24,
      "outputs": [
        {
          "output_type": "execute_result",
          "data": {
            "text/plain": [
              "2"
            ]
          },
          "metadata": {
            "tags": []
          },
          "execution_count": 24
        }
      ]
    },
    {
      "cell_type": "code",
      "metadata": {
        "colab": {
          "base_uri": "https://localhost:8080/"
        },
        "id": "TjmnN3NXuS9r",
        "outputId": "89559b6b-7c7a-4a26-81b0-39a37e0cb72e"
      },
      "source": [
        "x3.ndim"
      ],
      "execution_count": 25,
      "outputs": [
        {
          "output_type": "execute_result",
          "data": {
            "text/plain": [
              "3"
            ]
          },
          "metadata": {
            "tags": []
          },
          "execution_count": 25
        }
      ]
    },
    {
      "cell_type": "code",
      "metadata": {
        "colab": {
          "base_uri": "https://localhost:8080/"
        },
        "id": "p8oPwqXKuUCU",
        "outputId": "7099d983-2fed-4d39-c3e6-4fd06112393f"
      },
      "source": [
        "x1.shape"
      ],
      "execution_count": 26,
      "outputs": [
        {
          "output_type": "execute_result",
          "data": {
            "text/plain": [
              "(6,)"
            ]
          },
          "metadata": {
            "tags": []
          },
          "execution_count": 26
        }
      ]
    },
    {
      "cell_type": "code",
      "metadata": {
        "colab": {
          "base_uri": "https://localhost:8080/"
        },
        "id": "c8itBmRBumd1",
        "outputId": "5742aa1c-7412-456b-c9ef-be78c3917548"
      },
      "source": [
        "x2.shape"
      ],
      "execution_count": 27,
      "outputs": [
        {
          "output_type": "execute_result",
          "data": {
            "text/plain": [
              "(3, 4)"
            ]
          },
          "metadata": {
            "tags": []
          },
          "execution_count": 27
        }
      ]
    },
    {
      "cell_type": "code",
      "metadata": {
        "colab": {
          "base_uri": "https://localhost:8080/"
        },
        "id": "8dTjULNcupd-",
        "outputId": "5507010f-e7b0-4222-fa4b-bb0d63eefd87"
      },
      "source": [
        "x3.shape"
      ],
      "execution_count": 28,
      "outputs": [
        {
          "output_type": "execute_result",
          "data": {
            "text/plain": [
              "(3, 4, 5)"
            ]
          },
          "metadata": {
            "tags": []
          },
          "execution_count": 28
        }
      ]
    },
    {
      "cell_type": "code",
      "metadata": {
        "colab": {
          "base_uri": "https://localhost:8080/"
        },
        "id": "S5O2INJxurFf",
        "outputId": "f430ca7a-451c-4029-8e73-86a8fc913808"
      },
      "source": [
        "x1.size"
      ],
      "execution_count": 29,
      "outputs": [
        {
          "output_type": "execute_result",
          "data": {
            "text/plain": [
              "6"
            ]
          },
          "metadata": {
            "tags": []
          },
          "execution_count": 29
        }
      ]
    },
    {
      "cell_type": "code",
      "metadata": {
        "colab": {
          "base_uri": "https://localhost:8080/"
        },
        "id": "iibwNsZcuu9S",
        "outputId": "2f3ed439-40fc-49fd-dd87-8a6ef0caae6f"
      },
      "source": [
        "x2.size"
      ],
      "execution_count": 30,
      "outputs": [
        {
          "output_type": "execute_result",
          "data": {
            "text/plain": [
              "12"
            ]
          },
          "metadata": {
            "tags": []
          },
          "execution_count": 30
        }
      ]
    },
    {
      "cell_type": "code",
      "metadata": {
        "colab": {
          "base_uri": "https://localhost:8080/"
        },
        "id": "bRN6pVM8uv8r",
        "outputId": "2a3cefce-2674-4c07-db0e-bf4a033c5260"
      },
      "source": [
        "x3.size"
      ],
      "execution_count": 31,
      "outputs": [
        {
          "output_type": "execute_result",
          "data": {
            "text/plain": [
              "60"
            ]
          },
          "metadata": {
            "tags": []
          },
          "execution_count": 31
        }
      ]
    },
    {
      "cell_type": "code",
      "metadata": {
        "colab": {
          "base_uri": "https://localhost:8080/"
        },
        "id": "ujiuvs33uxzP",
        "outputId": "df0cc811-2f45-4f56-9aa0-8d9e3205d686"
      },
      "source": [
        "x1.dtype"
      ],
      "execution_count": 32,
      "outputs": [
        {
          "output_type": "execute_result",
          "data": {
            "text/plain": [
              "dtype('float16')"
            ]
          },
          "metadata": {
            "tags": []
          },
          "execution_count": 32
        }
      ]
    },
    {
      "cell_type": "code",
      "metadata": {
        "colab": {
          "base_uri": "https://localhost:8080/"
        },
        "id": "ZVK9Ej8TvNbj",
        "outputId": "4b3ab96d-8243-4f4c-f3e3-042e3f3be9bf"
      },
      "source": [
        "x2.dtype"
      ],
      "execution_count": 33,
      "outputs": [
        {
          "output_type": "execute_result",
          "data": {
            "text/plain": [
              "dtype('uint8')"
            ]
          },
          "metadata": {
            "tags": []
          },
          "execution_count": 33
        }
      ]
    },
    {
      "cell_type": "code",
      "metadata": {
        "colab": {
          "base_uri": "https://localhost:8080/"
        },
        "id": "-7ZeptzavO75",
        "outputId": "2eeb028e-d032-45cc-e0d8-315a82ffa8d2"
      },
      "source": [
        "x3.dtype"
      ],
      "execution_count": 34,
      "outputs": [
        {
          "output_type": "execute_result",
          "data": {
            "text/plain": [
              "dtype('float32')"
            ]
          },
          "metadata": {
            "tags": []
          },
          "execution_count": 34
        }
      ]
    },
    {
      "cell_type": "markdown",
      "metadata": {
        "id": "wQY0GOALvYTR"
      },
      "source": [
        "#PY13"
      ]
    },
    {
      "cell_type": "code",
      "metadata": {
        "colab": {
          "base_uri": "https://localhost:8080/"
        },
        "id": "gSJV8vCMvP7g",
        "outputId": "af77214c-6c09-4d39-a224-326df84097aa"
      },
      "source": [
        "#一次元\n",
        "x1 = np.random.randint(10, size=(6))\n",
        "x1"
      ],
      "execution_count": 35,
      "outputs": [
        {
          "output_type": "execute_result",
          "data": {
            "text/plain": [
              "array([2, 5, 4, 3, 4, 0])"
            ]
          },
          "metadata": {
            "tags": []
          },
          "execution_count": 35
        }
      ]
    },
    {
      "cell_type": "code",
      "metadata": {
        "colab": {
          "base_uri": "https://localhost:8080/"
        },
        "id": "wMX34T5H8Dbv",
        "outputId": "292065e0-d6ec-4429-cff0-9a4be0f7d124"
      },
      "source": [
        "x1[0]"
      ],
      "execution_count": 36,
      "outputs": [
        {
          "output_type": "execute_result",
          "data": {
            "text/plain": [
              "2"
            ]
          },
          "metadata": {
            "tags": []
          },
          "execution_count": 36
        }
      ]
    },
    {
      "cell_type": "code",
      "metadata": {
        "colab": {
          "base_uri": "https://localhost:8080/"
        },
        "id": "RWeoYJjO8PvO",
        "outputId": "84ed9ea1-ec65-4c43-8c17-e379c06be031"
      },
      "source": [
        "x1[3]"
      ],
      "execution_count": 37,
      "outputs": [
        {
          "output_type": "execute_result",
          "data": {
            "text/plain": [
              "3"
            ]
          },
          "metadata": {
            "tags": []
          },
          "execution_count": 37
        }
      ]
    },
    {
      "cell_type": "code",
      "metadata": {
        "colab": {
          "base_uri": "https://localhost:8080/"
        },
        "id": "1n-1Bb5Y8Rdq",
        "outputId": "ecabc439-132e-411f-e200-6db9abfd42a1"
      },
      "source": [
        "x1[-1]"
      ],
      "execution_count": 38,
      "outputs": [
        {
          "output_type": "execute_result",
          "data": {
            "text/plain": [
              "0"
            ]
          },
          "metadata": {
            "tags": []
          },
          "execution_count": 38
        }
      ]
    },
    {
      "cell_type": "code",
      "metadata": {
        "colab": {
          "base_uri": "https://localhost:8080/"
        },
        "id": "Sn_hkw6l8Tus",
        "outputId": "77592e30-53fc-465b-b18f-ea1f0e29506a"
      },
      "source": [
        "x1[-4]"
      ],
      "execution_count": 39,
      "outputs": [
        {
          "output_type": "execute_result",
          "data": {
            "text/plain": [
              "4"
            ]
          },
          "metadata": {
            "tags": []
          },
          "execution_count": 39
        }
      ]
    },
    {
      "cell_type": "code",
      "metadata": {
        "colab": {
          "base_uri": "https://localhost:8080/"
        },
        "id": "zcVtmVjL8V8l",
        "outputId": "983b50ec-d56c-4b3b-e9d8-c7252946d5ca"
      },
      "source": [
        "x1[2] = 8\n",
        "x1"
      ],
      "execution_count": 41,
      "outputs": [
        {
          "output_type": "execute_result",
          "data": {
            "text/plain": [
              "array([2, 5, 8, 3, 4, 0])"
            ]
          },
          "metadata": {
            "tags": []
          },
          "execution_count": 41
        }
      ]
    },
    {
      "cell_type": "code",
      "metadata": {
        "colab": {
          "base_uri": "https://localhost:8080/"
        },
        "id": "0jWYofxr8Y8-",
        "outputId": "3788c3c1-6579-44c0-cdab-b5581e91eaae"
      },
      "source": [
        "#多次元\n",
        "x2 = np.random.randint(10, size=(3,4))\n",
        "x2"
      ],
      "execution_count": 49,
      "outputs": [
        {
          "output_type": "execute_result",
          "data": {
            "text/plain": [
              "array([[8, 7, 3, 9],\n",
              "       [7, 5, 1, 9],\n",
              "       [9, 5, 1, 6]])"
            ]
          },
          "metadata": {
            "tags": []
          },
          "execution_count": 49
        }
      ]
    },
    {
      "cell_type": "code",
      "metadata": {
        "colab": {
          "base_uri": "https://localhost:8080/"
        },
        "id": "g5yVIyk6_kI9",
        "outputId": "9682d714-ef42-4dc3-eadd-1aa9c6cfeddc"
      },
      "source": [
        "x2[0, 0]"
      ],
      "execution_count": 50,
      "outputs": [
        {
          "output_type": "execute_result",
          "data": {
            "text/plain": [
              "8"
            ]
          },
          "metadata": {
            "tags": []
          },
          "execution_count": 50
        }
      ]
    },
    {
      "cell_type": "code",
      "metadata": {
        "colab": {
          "base_uri": "https://localhost:8080/"
        },
        "id": "5PwfGeKc_rZn",
        "outputId": "c62ac5fb-ac83-4eb1-f834-05d1a5c23b4d"
      },
      "source": [
        "x2[2, -1]"
      ],
      "execution_count": 51,
      "outputs": [
        {
          "output_type": "execute_result",
          "data": {
            "text/plain": [
              "6"
            ]
          },
          "metadata": {
            "tags": []
          },
          "execution_count": 51
        }
      ]
    },
    {
      "cell_type": "code",
      "metadata": {
        "colab": {
          "base_uri": "https://localhost:8080/"
        },
        "id": "OTlXBk0c_3o6",
        "outputId": "b589a00f-33ff-4f58-960a-77d2e9c8800e"
      },
      "source": [
        "x2[0, 0] = 12\n",
        "x2"
      ],
      "execution_count": 52,
      "outputs": [
        {
          "output_type": "execute_result",
          "data": {
            "text/plain": [
              "array([[12,  7,  3,  9],\n",
              "       [ 7,  5,  1,  9],\n",
              "       [ 9,  5,  1,  6]])"
            ]
          },
          "metadata": {
            "tags": []
          },
          "execution_count": 52
        }
      ]
    },
    {
      "cell_type": "code",
      "metadata": {
        "colab": {
          "base_uri": "https://localhost:8080/"
        },
        "id": "_cj2d1ec_6ZZ",
        "outputId": "9021d079-6e44-49c7-e978-f9bc97586767"
      },
      "source": [
        "#ビュー\n",
        "x3 = np.random.randint(10, size=(3,4))\n",
        "x3"
      ],
      "execution_count": 53,
      "outputs": [
        {
          "output_type": "execute_result",
          "data": {
            "text/plain": [
              "array([[6, 4, 3, 6],\n",
              "       [1, 1, 0, 5],\n",
              "       [6, 4, 1, 8]])"
            ]
          },
          "metadata": {
            "tags": []
          },
          "execution_count": 53
        }
      ]
    },
    {
      "cell_type": "code",
      "metadata": {
        "colab": {
          "base_uri": "https://localhost:8080/"
        },
        "id": "mahbU1QlAhUL",
        "outputId": "765e3eb7-e48d-4842-db7b-5a2e6cdd8d75"
      },
      "source": [
        "x3_sub = x3[:2, :2]\n",
        "x3_sub"
      ],
      "execution_count": 55,
      "outputs": [
        {
          "output_type": "execute_result",
          "data": {
            "text/plain": [
              "array([[6, 4],\n",
              "       [1, 1]])"
            ]
          },
          "metadata": {
            "tags": []
          },
          "execution_count": 55
        }
      ]
    },
    {
      "cell_type": "code",
      "metadata": {
        "colab": {
          "base_uri": "https://localhost:8080/"
        },
        "id": "IPT5gv8iApoP",
        "outputId": "412d8cea-60c2-4f63-b8d6-f10ddf5681f3"
      },
      "source": [
        "x3_sub[0, 0] = 99\n",
        "x3_sub"
      ],
      "execution_count": 56,
      "outputs": [
        {
          "output_type": "execute_result",
          "data": {
            "text/plain": [
              "array([[99,  4],\n",
              "       [ 1,  1]])"
            ]
          },
          "metadata": {
            "tags": []
          },
          "execution_count": 56
        }
      ]
    },
    {
      "cell_type": "code",
      "metadata": {
        "colab": {
          "base_uri": "https://localhost:8080/"
        },
        "id": "ub_RdwdcA49C",
        "outputId": "ce64767f-46ef-4199-e267-8236d8653dc5"
      },
      "source": [
        "x3"
      ],
      "execution_count": 57,
      "outputs": [
        {
          "output_type": "execute_result",
          "data": {
            "text/plain": [
              "array([[99,  4,  3,  6],\n",
              "       [ 1,  1,  0,  5],\n",
              "       [ 6,  4,  1,  8]])"
            ]
          },
          "metadata": {
            "tags": []
          },
          "execution_count": 57
        }
      ]
    },
    {
      "cell_type": "code",
      "metadata": {
        "colab": {
          "base_uri": "https://localhost:8080/"
        },
        "id": "ZE9bNDadA5-R",
        "outputId": "920927c3-b50c-427d-a84e-2537495816cb"
      },
      "source": [
        "#コピー\n",
        "x4 = np.random.randint(10, size=(3, 4))\n",
        "x4"
      ],
      "execution_count": 58,
      "outputs": [
        {
          "output_type": "execute_result",
          "data": {
            "text/plain": [
              "array([[4, 8, 8, 8],\n",
              "       [7, 2, 0, 3],\n",
              "       [8, 4, 3, 6]])"
            ]
          },
          "metadata": {
            "tags": []
          },
          "execution_count": 58
        }
      ]
    },
    {
      "cell_type": "code",
      "metadata": {
        "colab": {
          "base_uri": "https://localhost:8080/"
        },
        "id": "rYvIcZTsBI4k",
        "outputId": "09c70979-2cd5-4c79-cf6b-44e1a9f560e8"
      },
      "source": [
        "x4_sub_copy = x4[:2, :2].copy()\n",
        "x4_sub_copy"
      ],
      "execution_count": 59,
      "outputs": [
        {
          "output_type": "execute_result",
          "data": {
            "text/plain": [
              "array([[4, 8],\n",
              "       [7, 2]])"
            ]
          },
          "metadata": {
            "tags": []
          },
          "execution_count": 59
        }
      ]
    },
    {
      "cell_type": "code",
      "metadata": {
        "colab": {
          "base_uri": "https://localhost:8080/"
        },
        "id": "1FuBoibCBbj1",
        "outputId": "5c45d72c-0693-4e59-aabf-6d7a34b708a6"
      },
      "source": [
        "x4_sub_copy[0,0] = 42\n",
        "x4_sub_copy"
      ],
      "execution_count": 60,
      "outputs": [
        {
          "output_type": "execute_result",
          "data": {
            "text/plain": [
              "array([[42,  8],\n",
              "       [ 7,  2]])"
            ]
          },
          "metadata": {
            "tags": []
          },
          "execution_count": 60
        }
      ]
    },
    {
      "cell_type": "code",
      "metadata": {
        "colab": {
          "base_uri": "https://localhost:8080/"
        },
        "id": "5zFws40GBmk-",
        "outputId": "39811bbf-459e-40ef-ec62-d878425e54da"
      },
      "source": [
        "x4"
      ],
      "execution_count": 61,
      "outputs": [
        {
          "output_type": "execute_result",
          "data": {
            "text/plain": [
              "array([[4, 8, 8, 8],\n",
              "       [7, 2, 0, 3],\n",
              "       [8, 4, 3, 6]])"
            ]
          },
          "metadata": {
            "tags": []
          },
          "execution_count": 61
        }
      ]
    },
    {
      "cell_type": "markdown",
      "metadata": {
        "id": "sRyOJl9IB71w"
      },
      "source": [
        "#PY14"
      ]
    },
    {
      "cell_type": "code",
      "metadata": {
        "colab": {
          "base_uri": "https://localhost:8080/"
        },
        "id": "7j9T6-aXBo1L",
        "outputId": "ab6cec3a-1d57-4531-b06f-c0ef9ce7d1a6"
      },
      "source": [
        "#行列の形状変更\n",
        "grid = np.arange(1, 10)\n",
        "grid"
      ],
      "execution_count": 63,
      "outputs": [
        {
          "output_type": "execute_result",
          "data": {
            "text/plain": [
              "array([1, 2, 3, 4, 5, 6, 7, 8, 9])"
            ]
          },
          "metadata": {
            "tags": []
          },
          "execution_count": 63
        }
      ]
    },
    {
      "cell_type": "code",
      "metadata": {
        "colab": {
          "base_uri": "https://localhost:8080/"
        },
        "id": "Dzn3-RYIGgKZ",
        "outputId": "dd84a22d-2ac8-4f42-ce6b-2ce8ae08403e"
      },
      "source": [
        "grid.reshape(3,3)"
      ],
      "execution_count": 64,
      "outputs": [
        {
          "output_type": "execute_result",
          "data": {
            "text/plain": [
              "array([[1, 2, 3],\n",
              "       [4, 5, 6],\n",
              "       [7, 8, 9]])"
            ]
          },
          "metadata": {
            "tags": []
          },
          "execution_count": 64
        }
      ]
    },
    {
      "cell_type": "code",
      "metadata": {
        "id": "sCNZB9WzGmOY"
      },
      "source": [
        "#grid.reshape((2, 5))"
      ],
      "execution_count": 66,
      "outputs": []
    },
    {
      "cell_type": "code",
      "metadata": {
        "colab": {
          "base_uri": "https://localhost:8080/"
        },
        "id": "CumwG4OjGsdU",
        "outputId": "70f42d1d-d46c-4305-ed99-5c3f28c5e195"
      },
      "source": [
        "x = np.array([1, 2, 3])\n",
        "x"
      ],
      "execution_count": 67,
      "outputs": [
        {
          "output_type": "execute_result",
          "data": {
            "text/plain": [
              "array([1, 2, 3])"
            ]
          },
          "metadata": {
            "tags": []
          },
          "execution_count": 67
        }
      ]
    },
    {
      "cell_type": "code",
      "metadata": {
        "colab": {
          "base_uri": "https://localhost:8080/"
        },
        "id": "I5JOvPd6G1WF",
        "outputId": "8e2bc220-413d-47eb-e16a-7cfaa431da70"
      },
      "source": [
        "x.reshape((1, 3))"
      ],
      "execution_count": 68,
      "outputs": [
        {
          "output_type": "execute_result",
          "data": {
            "text/plain": [
              "array([[1, 2, 3]])"
            ]
          },
          "metadata": {
            "tags": []
          },
          "execution_count": 68
        }
      ]
    },
    {
      "cell_type": "code",
      "metadata": {
        "colab": {
          "base_uri": "https://localhost:8080/"
        },
        "id": "v11rVV1MG7AP",
        "outputId": "233dc8e0-e549-4948-d69b-3e2e11d1e468"
      },
      "source": [
        "x[np.newaxis]"
      ],
      "execution_count": 69,
      "outputs": [
        {
          "output_type": "execute_result",
          "data": {
            "text/plain": [
              "array([[1, 2, 3]])"
            ]
          },
          "metadata": {
            "tags": []
          },
          "execution_count": 69
        }
      ]
    },
    {
      "cell_type": "code",
      "metadata": {
        "colab": {
          "base_uri": "https://localhost:8080/"
        },
        "id": "PPPOVVYmHC9d",
        "outputId": "dfd7c41c-e8a5-4034-813d-f068c51d8af6"
      },
      "source": [
        "x.reshape((3,1))"
      ],
      "execution_count": 71,
      "outputs": [
        {
          "output_type": "execute_result",
          "data": {
            "text/plain": [
              "array([[1],\n",
              "       [2],\n",
              "       [3]])"
            ]
          },
          "metadata": {
            "tags": []
          },
          "execution_count": 71
        }
      ]
    },
    {
      "cell_type": "code",
      "metadata": {
        "colab": {
          "base_uri": "https://localhost:8080/"
        },
        "id": "mwqDn0F1HG6f",
        "outputId": "29f4cd23-dd4f-4dcb-9b81-0c7e7c7e2baf"
      },
      "source": [
        "x[:, np.newaxis]"
      ],
      "execution_count": 72,
      "outputs": [
        {
          "output_type": "execute_result",
          "data": {
            "text/plain": [
              "array([[1],\n",
              "       [2],\n",
              "       [3]])"
            ]
          },
          "metadata": {
            "tags": []
          },
          "execution_count": 72
        }
      ]
    },
    {
      "cell_type": "code",
      "metadata": {
        "colab": {
          "base_uri": "https://localhost:8080/"
        },
        "id": "utmzrbRHHSRg",
        "outputId": "388f18f3-a569-4a94-c5c0-debd694005d6"
      },
      "source": [
        "#行列の連結\n",
        "x = np.array([1, 2, 3])\n",
        "x"
      ],
      "execution_count": 73,
      "outputs": [
        {
          "output_type": "execute_result",
          "data": {
            "text/plain": [
              "array([1, 2, 3])"
            ]
          },
          "metadata": {
            "tags": []
          },
          "execution_count": 73
        }
      ]
    },
    {
      "cell_type": "code",
      "metadata": {
        "colab": {
          "base_uri": "https://localhost:8080/"
        },
        "id": "lPc7GSqYHfCF",
        "outputId": "93b16eb0-f8ac-4f94-9d1d-0ffc6dafc788"
      },
      "source": [
        "y = np.array([4, 5, 6])\n",
        "y"
      ],
      "execution_count": 74,
      "outputs": [
        {
          "output_type": "execute_result",
          "data": {
            "text/plain": [
              "array([4, 5, 6])"
            ]
          },
          "metadata": {
            "tags": []
          },
          "execution_count": 74
        }
      ]
    },
    {
      "cell_type": "code",
      "metadata": {
        "colab": {
          "base_uri": "https://localhost:8080/"
        },
        "id": "ishAgiDrHkXU",
        "outputId": "74ae1b3b-08a9-4226-ca9f-df382c68e440"
      },
      "source": [
        "np.concatenate([x, y])"
      ],
      "execution_count": 75,
      "outputs": [
        {
          "output_type": "execute_result",
          "data": {
            "text/plain": [
              "array([1, 2, 3, 4, 5, 6])"
            ]
          },
          "metadata": {
            "tags": []
          },
          "execution_count": 75
        }
      ]
    },
    {
      "cell_type": "code",
      "metadata": {
        "colab": {
          "base_uri": "https://localhost:8080/"
        },
        "id": "5nhObVXGHnMs",
        "outputId": "00faec94-7433-41d1-c2b8-1b9b006e7873"
      },
      "source": [
        "z = [99, 999, 99]\n",
        "np.concatenate([x, y, z])"
      ],
      "execution_count": 77,
      "outputs": [
        {
          "output_type": "execute_result",
          "data": {
            "text/plain": [
              "array([  1,   2,   3,   4,   5,   6,  99, 999,  99])"
            ]
          },
          "metadata": {
            "tags": []
          },
          "execution_count": 77
        }
      ]
    },
    {
      "cell_type": "code",
      "metadata": {
        "colab": {
          "base_uri": "https://localhost:8080/"
        },
        "id": "iX4LJLOGHtys",
        "outputId": "66cab92a-1506-4e57-d617-55581bfaf0d1"
      },
      "source": [
        "#多次元\n",
        "grid = np.array([[1, 2, 3], [4, 5, 6]])\n",
        "grid"
      ],
      "execution_count": 78,
      "outputs": [
        {
          "output_type": "execute_result",
          "data": {
            "text/plain": [
              "array([[1, 2, 3],\n",
              "       [4, 5, 6]])"
            ]
          },
          "metadata": {
            "tags": []
          },
          "execution_count": 78
        }
      ]
    },
    {
      "cell_type": "code",
      "metadata": {
        "colab": {
          "base_uri": "https://localhost:8080/"
        },
        "id": "zTBd9eRxH_Ee",
        "outputId": "88634328-e642-456a-a1c7-73d754db35a3"
      },
      "source": [
        "grid.shape"
      ],
      "execution_count": 80,
      "outputs": [
        {
          "output_type": "execute_result",
          "data": {
            "text/plain": [
              "(2, 3)"
            ]
          },
          "metadata": {
            "tags": []
          },
          "execution_count": 80
        }
      ]
    },
    {
      "cell_type": "code",
      "metadata": {
        "colab": {
          "base_uri": "https://localhost:8080/"
        },
        "id": "Pcpa9w1CIAqt",
        "outputId": "e037c716-8238-49c5-c105-9a235c578383"
      },
      "source": [
        "grid2 = np.concatenate([grid, grid], axis=0)\n",
        "grid2"
      ],
      "execution_count": 82,
      "outputs": [
        {
          "output_type": "execute_result",
          "data": {
            "text/plain": [
              "array([[1, 2, 3],\n",
              "       [4, 5, 6],\n",
              "       [1, 2, 3],\n",
              "       [4, 5, 6]])"
            ]
          },
          "metadata": {
            "tags": []
          },
          "execution_count": 82
        }
      ]
    },
    {
      "cell_type": "code",
      "metadata": {
        "colab": {
          "base_uri": "https://localhost:8080/"
        },
        "id": "Ot17MBraIKCy",
        "outputId": "97411059-1640-49d9-a8e4-de0199f6eb77"
      },
      "source": [
        "grid2.shape"
      ],
      "execution_count": 83,
      "outputs": [
        {
          "output_type": "execute_result",
          "data": {
            "text/plain": [
              "(4, 3)"
            ]
          },
          "metadata": {
            "tags": []
          },
          "execution_count": 83
        }
      ]
    },
    {
      "cell_type": "code",
      "metadata": {
        "colab": {
          "base_uri": "https://localhost:8080/"
        },
        "id": "4CMHKEwcIQd7",
        "outputId": "3525133d-6494-45e8-ca9c-1efa85264ab0"
      },
      "source": [
        "grid3 = np.concatenate([grid, grid], axis=1)\n",
        "grid3"
      ],
      "execution_count": 86,
      "outputs": [
        {
          "output_type": "execute_result",
          "data": {
            "text/plain": [
              "array([[1, 2, 3, 1, 2, 3],\n",
              "       [4, 5, 6, 4, 5, 6]])"
            ]
          },
          "metadata": {
            "tags": []
          },
          "execution_count": 86
        }
      ]
    },
    {
      "cell_type": "code",
      "metadata": {
        "colab": {
          "base_uri": "https://localhost:8080/"
        },
        "id": "HE511uXLIWrL",
        "outputId": "5f8a229d-88d0-4ed9-9ee9-7e2ecf303f69"
      },
      "source": [
        "grid3.shape"
      ],
      "execution_count": 88,
      "outputs": [
        {
          "output_type": "execute_result",
          "data": {
            "text/plain": [
              "(2, 6)"
            ]
          },
          "metadata": {
            "tags": []
          },
          "execution_count": 88
        }
      ]
    },
    {
      "cell_type": "code",
      "metadata": {
        "colab": {
          "base_uri": "https://localhost:8080/"
        },
        "id": "2ERhd0-VImUK",
        "outputId": "cad25565-ea89-4be5-8bf4-d8c3e1708375"
      },
      "source": [
        "aaa = np.random.randint(10, size=(3, 4, 3))\n",
        "aaa"
      ],
      "execution_count": 90,
      "outputs": [
        {
          "output_type": "execute_result",
          "data": {
            "text/plain": [
              "array([[[6, 3, 6],\n",
              "        [7, 7, 1],\n",
              "        [2, 4, 8],\n",
              "        [2, 8, 1]],\n",
              "\n",
              "       [[3, 2, 2],\n",
              "        [6, 8, 2],\n",
              "        [1, 6, 4],\n",
              "        [3, 6, 1]],\n",
              "\n",
              "       [[1, 1, 2],\n",
              "        [5, 4, 7],\n",
              "        [3, 4, 1],\n",
              "        [1, 7, 7]]])"
            ]
          },
          "metadata": {
            "tags": []
          },
          "execution_count": 90
        }
      ]
    },
    {
      "cell_type": "code",
      "metadata": {
        "colab": {
          "base_uri": "https://localhost:8080/"
        },
        "id": "LY6V_y1NI1PB",
        "outputId": "56e645c7-aa86-4c25-b713-fee832546009"
      },
      "source": [
        "np.concatenate([aaa, aaa], axis=2)"
      ],
      "execution_count": 91,
      "outputs": [
        {
          "output_type": "execute_result",
          "data": {
            "text/plain": [
              "array([[[6, 3, 6, 6, 3, 6],\n",
              "        [7, 7, 1, 7, 7, 1],\n",
              "        [2, 4, 8, 2, 4, 8],\n",
              "        [2, 8, 1, 2, 8, 1]],\n",
              "\n",
              "       [[3, 2, 2, 3, 2, 2],\n",
              "        [6, 8, 2, 6, 8, 2],\n",
              "        [1, 6, 4, 1, 6, 4],\n",
              "        [3, 6, 1, 3, 6, 1]],\n",
              "\n",
              "       [[1, 1, 2, 1, 1, 2],\n",
              "        [5, 4, 7, 5, 4, 7],\n",
              "        [3, 4, 1, 3, 4, 1],\n",
              "        [1, 7, 7, 1, 7, 7]]])"
            ]
          },
          "metadata": {
            "tags": []
          },
          "execution_count": 91
        }
      ]
    },
    {
      "cell_type": "code",
      "metadata": {
        "colab": {
          "base_uri": "https://localhost:8080/"
        },
        "id": "yY7JMr0CI9Ww",
        "outputId": "1e8381a8-7a91-4844-eb5f-392f8b7fd1ce"
      },
      "source": [
        "np.concatenate([aaa, aaa], axis=2).shape"
      ],
      "execution_count": 92,
      "outputs": [
        {
          "output_type": "execute_result",
          "data": {
            "text/plain": [
              "(3, 4, 6)"
            ]
          },
          "metadata": {
            "tags": []
          },
          "execution_count": 92
        }
      ]
    },
    {
      "cell_type": "code",
      "metadata": {
        "colab": {
          "base_uri": "https://localhost:8080/"
        },
        "id": "TiwbapDXJNNV",
        "outputId": "6275df9f-c20e-4805-abd0-294facac8d16"
      },
      "source": [
        "np.concatenate([aaa, aaa], axis=1)"
      ],
      "execution_count": 93,
      "outputs": [
        {
          "output_type": "execute_result",
          "data": {
            "text/plain": [
              "array([[[6, 3, 6],\n",
              "        [7, 7, 1],\n",
              "        [2, 4, 8],\n",
              "        [2, 8, 1],\n",
              "        [6, 3, 6],\n",
              "        [7, 7, 1],\n",
              "        [2, 4, 8],\n",
              "        [2, 8, 1]],\n",
              "\n",
              "       [[3, 2, 2],\n",
              "        [6, 8, 2],\n",
              "        [1, 6, 4],\n",
              "        [3, 6, 1],\n",
              "        [3, 2, 2],\n",
              "        [6, 8, 2],\n",
              "        [1, 6, 4],\n",
              "        [3, 6, 1]],\n",
              "\n",
              "       [[1, 1, 2],\n",
              "        [5, 4, 7],\n",
              "        [3, 4, 1],\n",
              "        [1, 7, 7],\n",
              "        [1, 1, 2],\n",
              "        [5, 4, 7],\n",
              "        [3, 4, 1],\n",
              "        [1, 7, 7]]])"
            ]
          },
          "metadata": {
            "tags": []
          },
          "execution_count": 93
        }
      ]
    },
    {
      "cell_type": "code",
      "metadata": {
        "colab": {
          "base_uri": "https://localhost:8080/"
        },
        "id": "Ng8N-54PJYdd",
        "outputId": "6deca0af-c587-4ae4-9209-35520b507d87"
      },
      "source": [
        "np.concatenate([aaa, aaa], axis=1).shape"
      ],
      "execution_count": 94,
      "outputs": [
        {
          "output_type": "execute_result",
          "data": {
            "text/plain": [
              "(3, 8, 3)"
            ]
          },
          "metadata": {
            "tags": []
          },
          "execution_count": 94
        }
      ]
    },
    {
      "cell_type": "code",
      "metadata": {
        "colab": {
          "base_uri": "https://localhost:8080/"
        },
        "id": "ky3W0F_1Ja4L",
        "outputId": "11a46299-3e60-40a8-9d5a-0fd8ae9e3406"
      },
      "source": [
        "np.concatenate([aaa, aaa], axis=0)"
      ],
      "execution_count": 95,
      "outputs": [
        {
          "output_type": "execute_result",
          "data": {
            "text/plain": [
              "array([[[6, 3, 6],\n",
              "        [7, 7, 1],\n",
              "        [2, 4, 8],\n",
              "        [2, 8, 1]],\n",
              "\n",
              "       [[3, 2, 2],\n",
              "        [6, 8, 2],\n",
              "        [1, 6, 4],\n",
              "        [3, 6, 1]],\n",
              "\n",
              "       [[1, 1, 2],\n",
              "        [5, 4, 7],\n",
              "        [3, 4, 1],\n",
              "        [1, 7, 7]],\n",
              "\n",
              "       [[6, 3, 6],\n",
              "        [7, 7, 1],\n",
              "        [2, 4, 8],\n",
              "        [2, 8, 1]],\n",
              "\n",
              "       [[3, 2, 2],\n",
              "        [6, 8, 2],\n",
              "        [1, 6, 4],\n",
              "        [3, 6, 1]],\n",
              "\n",
              "       [[1, 1, 2],\n",
              "        [5, 4, 7],\n",
              "        [3, 4, 1],\n",
              "        [1, 7, 7]]])"
            ]
          },
          "metadata": {
            "tags": []
          },
          "execution_count": 95
        }
      ]
    },
    {
      "cell_type": "code",
      "metadata": {
        "colab": {
          "base_uri": "https://localhost:8080/"
        },
        "id": "PsBUOFz-JcYi",
        "outputId": "978cfef6-f2ca-4b47-d94f-ffa6ff6f282b"
      },
      "source": [
        "np.concatenate([aaa, aaa], axis=0)"
      ],
      "execution_count": 96,
      "outputs": [
        {
          "output_type": "execute_result",
          "data": {
            "text/plain": [
              "array([[[6, 3, 6],\n",
              "        [7, 7, 1],\n",
              "        [2, 4, 8],\n",
              "        [2, 8, 1]],\n",
              "\n",
              "       [[3, 2, 2],\n",
              "        [6, 8, 2],\n",
              "        [1, 6, 4],\n",
              "        [3, 6, 1]],\n",
              "\n",
              "       [[1, 1, 2],\n",
              "        [5, 4, 7],\n",
              "        [3, 4, 1],\n",
              "        [1, 7, 7]],\n",
              "\n",
              "       [[6, 3, 6],\n",
              "        [7, 7, 1],\n",
              "        [2, 4, 8],\n",
              "        [2, 8, 1]],\n",
              "\n",
              "       [[3, 2, 2],\n",
              "        [6, 8, 2],\n",
              "        [1, 6, 4],\n",
              "        [3, 6, 1]],\n",
              "\n",
              "       [[1, 1, 2],\n",
              "        [5, 4, 7],\n",
              "        [3, 4, 1],\n",
              "        [1, 7, 7]]])"
            ]
          },
          "metadata": {
            "tags": []
          },
          "execution_count": 96
        }
      ]
    },
    {
      "cell_type": "markdown",
      "metadata": {
        "id": "DBVgZCE5J5Fv"
      },
      "source": [
        "#PY15"
      ]
    },
    {
      "cell_type": "code",
      "metadata": {
        "colab": {
          "base_uri": "https://localhost:8080/"
        },
        "id": "Mfx8fbgvJdHW",
        "outputId": "0700ff8c-db47-405e-9a22-c6cbc59e7044"
      },
      "source": [
        "#行列の演算\n",
        "x = np.arange(4)\n",
        "x"
      ],
      "execution_count": 97,
      "outputs": [
        {
          "output_type": "execute_result",
          "data": {
            "text/plain": [
              "array([0, 1, 2, 3])"
            ]
          },
          "metadata": {
            "tags": []
          },
          "execution_count": 97
        }
      ]
    },
    {
      "cell_type": "code",
      "metadata": {
        "colab": {
          "base_uri": "https://localhost:8080/"
        },
        "id": "eRzR6ZLzL0Q2",
        "outputId": "d9f9df3d-bcd6-47ff-fb57-918cbbb88037"
      },
      "source": [
        "x + 5"
      ],
      "execution_count": 98,
      "outputs": [
        {
          "output_type": "execute_result",
          "data": {
            "text/plain": [
              "array([5, 6, 7, 8])"
            ]
          },
          "metadata": {
            "tags": []
          },
          "execution_count": 98
        }
      ]
    },
    {
      "cell_type": "code",
      "metadata": {
        "colab": {
          "base_uri": "https://localhost:8080/"
        },
        "id": "xP-xCx3KL1uo",
        "outputId": "04f43f48-324a-41f8-d410-03dd4dfad6fc"
      },
      "source": [
        "x - 5"
      ],
      "execution_count": 104,
      "outputs": [
        {
          "output_type": "execute_result",
          "data": {
            "text/plain": [
              "array([-5, -4, -3, -2])"
            ]
          },
          "metadata": {
            "tags": []
          },
          "execution_count": 104
        }
      ]
    },
    {
      "cell_type": "code",
      "metadata": {
        "colab": {
          "base_uri": "https://localhost:8080/"
        },
        "id": "YGa91mp9L3Jo",
        "outputId": "af427788-a1db-4021-a845-5903f5f9d6a5"
      },
      "source": [
        "x * 2"
      ],
      "execution_count": 103,
      "outputs": [
        {
          "output_type": "execute_result",
          "data": {
            "text/plain": [
              "array([0, 2, 4, 6])"
            ]
          },
          "metadata": {
            "tags": []
          },
          "execution_count": 103
        }
      ]
    },
    {
      "cell_type": "code",
      "metadata": {
        "colab": {
          "base_uri": "https://localhost:8080/"
        },
        "id": "ulj91vrmL9tp",
        "outputId": "261479d8-4856-4d02-ab8b-f14644b14b9c"
      },
      "source": [
        "x / 2"
      ],
      "execution_count": 102,
      "outputs": [
        {
          "output_type": "execute_result",
          "data": {
            "text/plain": [
              "array([0. , 0.5, 1. , 1.5])"
            ]
          },
          "metadata": {
            "tags": []
          },
          "execution_count": 102
        }
      ]
    },
    {
      "cell_type": "code",
      "metadata": {
        "colab": {
          "base_uri": "https://localhost:8080/"
        },
        "id": "g864ygh7L_Ei",
        "outputId": "3a4c471e-1954-4374-e2d6-0fb2512c3bc6"
      },
      "source": [
        "x // 2"
      ],
      "execution_count": 105,
      "outputs": [
        {
          "output_type": "execute_result",
          "data": {
            "text/plain": [
              "array([0, 0, 1, 1])"
            ]
          },
          "metadata": {
            "tags": []
          },
          "execution_count": 105
        }
      ]
    },
    {
      "cell_type": "code",
      "metadata": {
        "colab": {
          "base_uri": "https://localhost:8080/"
        },
        "id": "sBpHVlyRMDYg",
        "outputId": "a22a0d68-98b6-46c3-f5bf-d32b2ade861c"
      },
      "source": [
        "x ** 3"
      ],
      "execution_count": 106,
      "outputs": [
        {
          "output_type": "execute_result",
          "data": {
            "text/plain": [
              "array([ 0,  1,  8, 27])"
            ]
          },
          "metadata": {
            "tags": []
          },
          "execution_count": 106
        }
      ]
    },
    {
      "cell_type": "code",
      "metadata": {
        "colab": {
          "base_uri": "https://localhost:8080/"
        },
        "id": "qeSq2Z3nMFx9",
        "outputId": "27293c1d-29af-487a-ee1a-44e0dce6f37f"
      },
      "source": [
        "x % 2"
      ],
      "execution_count": 107,
      "outputs": [
        {
          "output_type": "execute_result",
          "data": {
            "text/plain": [
              "array([0, 1, 0, 1])"
            ]
          },
          "metadata": {
            "tags": []
          },
          "execution_count": 107
        }
      ]
    },
    {
      "cell_type": "code",
      "metadata": {
        "colab": {
          "base_uri": "https://localhost:8080/"
        },
        "id": "r4X-AAmBMKl2",
        "outputId": "e5ed8c93-8af7-46b2-fbed-8e8722cb07df"
      },
      "source": [
        "-(0.5 * x + 1) ** 2"
      ],
      "execution_count": 108,
      "outputs": [
        {
          "output_type": "execute_result",
          "data": {
            "text/plain": [
              "array([-1.  , -2.25, -4.  , -6.25])"
            ]
          },
          "metadata": {
            "tags": []
          },
          "execution_count": 108
        }
      ]
    },
    {
      "cell_type": "code",
      "metadata": {
        "colab": {
          "base_uri": "https://localhost:8080/"
        },
        "id": "axdXaIkvMPgV",
        "outputId": "55549317-5e8f-47a8-c151-a4b7266c52f2"
      },
      "source": [
        "#集約\n",
        "L = np.random.random(100)\n",
        "L"
      ],
      "execution_count": 109,
      "outputs": [
        {
          "output_type": "execute_result",
          "data": {
            "text/plain": [
              "array([0.31507728, 0.90665381, 0.04622124, 0.76945973, 0.88938255,\n",
              "       0.20517054, 0.81842869, 0.61939719, 0.07137406, 0.75845042,\n",
              "       0.8284207 , 0.97889645, 0.51230107, 0.85941159, 0.1698842 ,\n",
              "       0.0526291 , 0.69899347, 0.65381023, 0.31672915, 0.16589356,\n",
              "       0.7481821 , 0.07943213, 0.79876274, 0.50473428, 0.67436412,\n",
              "       0.07120463, 0.05403119, 0.06269712, 0.26039103, 0.37681094,\n",
              "       0.75739611, 0.58891498, 0.76481093, 0.34174543, 0.98647209,\n",
              "       0.18289801, 0.14296765, 0.1597262 , 0.96141881, 0.33215012,\n",
              "       0.85519886, 0.36681402, 0.99898913, 0.09675592, 0.02994859,\n",
              "       0.02924963, 0.29612036, 0.70397322, 0.49865052, 0.58017413,\n",
              "       0.55607428, 0.94455003, 0.12535052, 0.98380533, 0.56420359,\n",
              "       0.42140223, 0.77727464, 0.46870314, 0.85067074, 0.28262895,\n",
              "       0.95798603, 0.21750642, 0.1658656 , 0.35132673, 0.68272511,\n",
              "       0.18883095, 0.7562868 , 0.39998475, 0.71820738, 0.29500251,\n",
              "       0.04494461, 0.79353601, 0.88088295, 0.46889423, 0.09689527,\n",
              "       0.45127369, 0.79782186, 0.1810796 , 0.7172133 , 0.47374177,\n",
              "       0.27877387, 0.51464849, 0.85494829, 0.85594835, 0.57014787,\n",
              "       0.51562871, 0.92148139, 0.84969335, 0.47074334, 0.50740693,\n",
              "       0.94019983, 0.02027251, 0.53219891, 0.6667725 , 0.40645873,\n",
              "       0.0085937 , 0.94033759, 0.22896198, 0.83637569, 0.82831136])"
            ]
          },
          "metadata": {
            "tags": []
          },
          "execution_count": 109
        }
      ]
    },
    {
      "cell_type": "code",
      "metadata": {
        "colab": {
          "base_uri": "https://localhost:8080/"
        },
        "id": "VGpRwPcgMUaw",
        "outputId": "067a8e85-9422-449e-a507-c84a20a5b9a6"
      },
      "source": [
        "np.sum(L)"
      ],
      "execution_count": 110,
      "outputs": [
        {
          "output_type": "execute_result",
          "data": {
            "text/plain": [
              "51.304142409475425"
            ]
          },
          "metadata": {
            "tags": []
          },
          "execution_count": 110
        }
      ]
    },
    {
      "cell_type": "code",
      "metadata": {
        "colab": {
          "base_uri": "https://localhost:8080/"
        },
        "id": "tX4lZ_zPMWm3",
        "outputId": "010882da-0c3d-4ff1-9c80-23359599a539"
      },
      "source": [
        "L.sum()"
      ],
      "execution_count": 111,
      "outputs": [
        {
          "output_type": "execute_result",
          "data": {
            "text/plain": [
              "51.304142409475425"
            ]
          },
          "metadata": {
            "tags": []
          },
          "execution_count": 111
        }
      ]
    },
    {
      "cell_type": "code",
      "metadata": {
        "colab": {
          "base_uri": "https://localhost:8080/"
        },
        "id": "FQhJ7FilMZFo",
        "outputId": "fc45a13f-904b-46af-fcbb-66056f4f81ca"
      },
      "source": [
        "#最大・最小\n",
        "np.min(L)"
      ],
      "execution_count": 112,
      "outputs": [
        {
          "output_type": "execute_result",
          "data": {
            "text/plain": [
              "0.008593699533954502"
            ]
          },
          "metadata": {
            "tags": []
          },
          "execution_count": 112
        }
      ]
    },
    {
      "cell_type": "code",
      "metadata": {
        "colab": {
          "base_uri": "https://localhost:8080/"
        },
        "id": "wLNfFMZ7MkZG",
        "outputId": "27080c1d-3ad7-4c00-fe6c-20f7e5181805"
      },
      "source": [
        "L.min()"
      ],
      "execution_count": 113,
      "outputs": [
        {
          "output_type": "execute_result",
          "data": {
            "text/plain": [
              "0.008593699533954502"
            ]
          },
          "metadata": {
            "tags": []
          },
          "execution_count": 113
        }
      ]
    },
    {
      "cell_type": "code",
      "metadata": {
        "colab": {
          "base_uri": "https://localhost:8080/"
        },
        "id": "K27rVZxVMlbu",
        "outputId": "b86147b5-16de-45a1-b037-cae1bf0b802b"
      },
      "source": [
        "np.max(L)"
      ],
      "execution_count": 114,
      "outputs": [
        {
          "output_type": "execute_result",
          "data": {
            "text/plain": [
              "0.9989891282644452"
            ]
          },
          "metadata": {
            "tags": []
          },
          "execution_count": 114
        }
      ]
    },
    {
      "cell_type": "code",
      "metadata": {
        "colab": {
          "base_uri": "https://localhost:8080/"
        },
        "id": "v8LA2vWYMnMB",
        "outputId": "1eaa357b-85bb-4578-8372-6e4b17ae975b"
      },
      "source": [
        "L.max()"
      ],
      "execution_count": 115,
      "outputs": [
        {
          "output_type": "execute_result",
          "data": {
            "text/plain": [
              "0.9989891282644452"
            ]
          },
          "metadata": {
            "tags": []
          },
          "execution_count": 115
        }
      ]
    },
    {
      "cell_type": "code",
      "metadata": {
        "colab": {
          "base_uri": "https://localhost:8080/"
        },
        "id": "MybbsSazMpLg",
        "outputId": "3dad7b42-9928-4b90-b955-7379d8a9f547"
      },
      "source": [
        "#多次元配列の集約\n",
        "M = np.random.random((3, 4))\n",
        "M"
      ],
      "execution_count": 116,
      "outputs": [
        {
          "output_type": "execute_result",
          "data": {
            "text/plain": [
              "array([[0.53262855, 0.40269204, 0.73642165, 0.48778152],\n",
              "       [0.62248229, 0.57202275, 0.05157199, 0.47148194],\n",
              "       [0.97803616, 0.04505754, 0.62861127, 0.53472678]])"
            ]
          },
          "metadata": {
            "tags": []
          },
          "execution_count": 116
        }
      ]
    },
    {
      "cell_type": "code",
      "metadata": {
        "colab": {
          "base_uri": "https://localhost:8080/"
        },
        "id": "yMO1BZxmMuu3",
        "outputId": "6faadea8-e15a-47d0-d14d-eef5760a103f"
      },
      "source": [
        "M.sum()"
      ],
      "execution_count": 117,
      "outputs": [
        {
          "output_type": "execute_result",
          "data": {
            "text/plain": [
              "6.06351446799867"
            ]
          },
          "metadata": {
            "tags": []
          },
          "execution_count": 117
        }
      ]
    },
    {
      "cell_type": "code",
      "metadata": {
        "colab": {
          "base_uri": "https://localhost:8080/"
        },
        "id": "ZVj2WQCsMxBy",
        "outputId": "ad98d98b-1445-42f5-8128-063dae9c2103"
      },
      "source": [
        "M.min(axis=0)"
      ],
      "execution_count": 120,
      "outputs": [
        {
          "output_type": "execute_result",
          "data": {
            "text/plain": [
              "array([0.53262855, 0.04505754, 0.05157199, 0.47148194])"
            ]
          },
          "metadata": {
            "tags": []
          },
          "execution_count": 120
        }
      ]
    },
    {
      "cell_type": "code",
      "metadata": {
        "colab": {
          "base_uri": "https://localhost:8080/"
        },
        "id": "eFAPrRLWMyYf",
        "outputId": "276e67a5-75d5-466a-94cb-d4fee1121afc"
      },
      "source": [
        "M.max(axis=1)"
      ],
      "execution_count": 121,
      "outputs": [
        {
          "output_type": "execute_result",
          "data": {
            "text/plain": [
              "array([0.73642165, 0.62248229, 0.97803616])"
            ]
          },
          "metadata": {
            "tags": []
          },
          "execution_count": 121
        }
      ]
    },
    {
      "cell_type": "code",
      "metadata": {
        "colab": {
          "base_uri": "https://localhost:8080/"
        },
        "id": "20pm-CFPNPhH",
        "outputId": "c262ede7-76da-4869-b90a-8706c572e9e7"
      },
      "source": [
        "#平均・中央値・最頻値\n",
        "np.mean(L)"
      ],
      "execution_count": 122,
      "outputs": [
        {
          "output_type": "execute_result",
          "data": {
            "text/plain": [
              "0.5130414240947543"
            ]
          },
          "metadata": {
            "tags": []
          },
          "execution_count": 122
        }
      ]
    },
    {
      "cell_type": "code",
      "metadata": {
        "colab": {
          "base_uri": "https://localhost:8080/"
        },
        "id": "UJIaLi90NZqm",
        "outputId": "93876013-4482-4592-aca6-d227a288ba8f"
      },
      "source": [
        "np.median(L)"
      ],
      "execution_count": 123,
      "outputs": [
        {
          "output_type": "execute_result",
          "data": {
            "text/plain": [
              "0.5134747767465404"
            ]
          },
          "metadata": {
            "tags": []
          },
          "execution_count": 123
        }
      ]
    },
    {
      "cell_type": "code",
      "metadata": {
        "colab": {
          "base_uri": "https://localhost:8080/"
        },
        "id": "y_jwS3D3Nd2r",
        "outputId": "73869270-1a88-47f5-852e-83bc0f54b70d"
      },
      "source": [
        "#マスク\n",
        "x = np.random.randint(3, size= (30))\n",
        "x"
      ],
      "execution_count": 124,
      "outputs": [
        {
          "output_type": "execute_result",
          "data": {
            "text/plain": [
              "array([0, 2, 1, 0, 0, 1, 0, 1, 1, 2, 2, 0, 2, 0, 1, 1, 0, 1, 2, 1, 0, 1,\n",
              "       0, 2, 0, 1, 1, 2, 2, 0])"
            ]
          },
          "metadata": {
            "tags": []
          },
          "execution_count": 124
        }
      ]
    },
    {
      "cell_type": "code",
      "metadata": {
        "colab": {
          "base_uri": "https://localhost:8080/"
        },
        "id": "UTsIv3ryNjjt",
        "outputId": "027b88d5-c54d-4016-ec5c-b970bf66ed3b"
      },
      "source": [
        "x > 0"
      ],
      "execution_count": 125,
      "outputs": [
        {
          "output_type": "execute_result",
          "data": {
            "text/plain": [
              "array([False,  True,  True, False, False,  True, False,  True,  True,\n",
              "        True,  True, False,  True, False,  True,  True, False,  True,\n",
              "        True,  True, False,  True, False,  True, False,  True,  True,\n",
              "        True,  True, False])"
            ]
          },
          "metadata": {
            "tags": []
          },
          "execution_count": 125
        }
      ]
    },
    {
      "cell_type": "code",
      "metadata": {
        "colab": {
          "base_uri": "https://localhost:8080/"
        },
        "id": "nqrg6VpiNk2y",
        "outputId": "31da06c3-8e25-4c87-d8f4-ece66d3827d8"
      },
      "source": [
        "x[x > 1]"
      ],
      "execution_count": 126,
      "outputs": [
        {
          "output_type": "execute_result",
          "data": {
            "text/plain": [
              "array([2, 2, 2, 2, 2, 2, 2, 2])"
            ]
          },
          "metadata": {
            "tags": []
          },
          "execution_count": 126
        }
      ]
    },
    {
      "cell_type": "code",
      "metadata": {
        "colab": {
          "base_uri": "https://localhost:8080/"
        },
        "id": "ehH9ecAmNnas",
        "outputId": "46de137e-c78a-42ec-ef2d-206f3107ac73"
      },
      "source": [
        "np.mean(x[x > 0])"
      ],
      "execution_count": 127,
      "outputs": [
        {
          "output_type": "execute_result",
          "data": {
            "text/plain": [
              "1.4210526315789473"
            ]
          },
          "metadata": {
            "tags": []
          },
          "execution_count": 127
        }
      ]
    },
    {
      "cell_type": "markdown",
      "metadata": {
        "id": "WpavUgbIOBgD"
      },
      "source": [
        "#PY16"
      ]
    },
    {
      "cell_type": "code",
      "metadata": {
        "id": "KxIumHyZN3Eo"
      },
      "source": [
        ""
      ],
      "execution_count": null,
      "outputs": []
    }
  ]
}