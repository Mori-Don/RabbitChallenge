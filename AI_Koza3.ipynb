{
  "nbformat": 4,
  "nbformat_minor": 0,
  "metadata": {
    "colab": {
      "name": "AI_Koza3.ipynb",
      "provenance": [],
      "authorship_tag": "ABX9TyOKx7angr0RNFvPKzsk7Jtq"
    },
    "kernelspec": {
      "name": "python3",
      "display_name": "Python 3"
    }
  },
  "cells": [
    {
      "cell_type": "markdown",
      "metadata": {
        "id": "kE1-m6fLB8GB"
      },
      "source": [
        "#3-1-1_順伝播の計算"
      ]
    },
    {
      "cell_type": "code",
      "metadata": {
        "id": "PHvpGO9__1Pl"
      },
      "source": [
        "import numpy as np"
      ],
      "execution_count": 1,
      "outputs": []
    },
    {
      "cell_type": "code",
      "metadata": {
        "id": "LPpmcSsuAETh"
      },
      "source": [
        "def sigmoid(a):\n",
        "  return 1/(1 + np.exp(-a))"
      ],
      "execution_count": 2,
      "outputs": []
    },
    {
      "cell_type": "code",
      "metadata": {
        "id": "NJsZ9-eQAU7b"
      },
      "source": [
        "x1 = np.array([[1], [2]])\n",
        "w1 = np.array([[0.4, 0.3],[0.7, 0.6]])\n",
        "a1 = w1.dot(x1)\n",
        "\n",
        "x2 = sigmoid(a1)\n",
        "w2 = np.array([[0.2, 0.3], [1, 0.7]])\n",
        "a2 = w2.dot(x2)\n",
        "\n",
        "y = sigmoid(a2)"
      ],
      "execution_count": 5,
      "outputs": []
    },
    {
      "cell_type": "code",
      "metadata": {
        "colab": {
          "base_uri": "https://localhost:8080/"
        },
        "id": "lgb3ryn4A1o0",
        "outputId": "a28ba9fd-f727-4184-c9c7-2680f37386ff"
      },
      "source": [
        "y"
      ],
      "execution_count": 6,
      "outputs": [
        {
          "output_type": "execute_result",
          "data": {
            "text/plain": [
              "array([[0.60041131],\n",
              "       [0.79248709]])"
            ]
          },
          "metadata": {
            "tags": []
          },
          "execution_count": 6
        }
      ]
    },
    {
      "cell_type": "markdown",
      "metadata": {
        "id": "vEFkh8PbCOjX"
      },
      "source": [
        "#3-1-2_逆伝播の計算①\n",
        "\n"
      ]
    },
    {
      "cell_type": "code",
      "metadata": {
        "id": "M1gXhCXSBG-f"
      },
      "source": [
        ""
      ],
      "execution_count": null,
      "outputs": []
    }
  ]
}